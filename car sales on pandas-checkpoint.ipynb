{
 "cells": [
  {
   "cell_type": "code",
   "execution_count": 1,
   "id": "b3e86c3d",
   "metadata": {},
   "outputs": [],
   "source": [
    "import pandas as pd\n"
   ]
  },
  {
   "cell_type": "code",
   "execution_count": 3,
   "id": "781f48cb",
   "metadata": {},
   "outputs": [],
   "source": [
    "# the two main data types\n",
    "car_brands = pd.Series(['BMW', 'Toyota', 'Honda'])"
   ]
  },
  {
   "cell_type": "code",
   "execution_count": 4,
   "id": "9aeec3fe",
   "metadata": {},
   "outputs": [
    {
     "data": {
      "text/plain": [
       "0       BMW\n",
       "1    Toyota\n",
       "2     Honda\n",
       "dtype: object"
      ]
     },
     "execution_count": 4,
     "metadata": {},
     "output_type": "execute_result"
    }
   ],
   "source": [
    "car_brands"
   ]
  },
  {
   "cell_type": "code",
   "execution_count": 9,
   "id": "0c422335",
   "metadata": {},
   "outputs": [],
   "source": [
    "# Series= 1-dimensional( is a) ( one column)\n"
   ]
  },
  {
   "cell_type": "code",
   "execution_count": 6,
   "id": "a88c86fb",
   "metadata": {
    "collapsed": true
   },
   "outputs": [],
   "source": [
    "car_colours = pd.Series([\"Red\", \"Blue\", \"White\"])"
   ]
  },
  {
   "cell_type": "code",
   "execution_count": 7,
   "id": "77a8ed13",
   "metadata": {},
   "outputs": [
    {
     "data": {
      "text/plain": [
       "0      Red\n",
       "1     Blue\n",
       "2    White\n",
       "dtype: object"
      ]
     },
     "execution_count": 7,
     "metadata": {},
     "output_type": "execute_result"
    }
   ],
   "source": [
    "car_colours"
   ]
  },
  {
   "cell_type": "code",
   "execution_count": 8,
   "id": "cfa423fa",
   "metadata": {},
   "outputs": [],
   "source": [
    "# DataFrane = 2-dimensional(is a) (many columns)\n",
    "# uses dictionary\n"
   ]
  },
  {
   "cell_type": "code",
   "execution_count": null,
   "id": "9b6c0d84",
   "metadata": {},
   "outputs": [],
   "source": [
    "car_data = pd.Dataframe({\" car make\":"
   ]
  }
 ],
 "metadata": {
  "kernelspec": {
   "display_name": "Python 3 (ipykernel)",
   "language": "python",
   "name": "python3"
  },
  "language_info": {
   "codemirror_mode": {
    "name": "ipython",
    "version": 3
   },
   "file_extension": ".py",
   "mimetype": "text/x-python",
   "name": "python",
   "nbconvert_exporter": "python",
   "pygments_lexer": "ipython3",
   "version": "3.11.3"
  }
 },
 "nbformat": 4,
 "nbformat_minor": 5
}
